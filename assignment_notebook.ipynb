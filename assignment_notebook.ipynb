{
 "cells": [
  {
   "cell_type": "markdown",
   "metadata": {},
   "source": [
    "Before you turn this problem in, make sure everything runs as expected. First, **restart the kernel** (in the menubar, select Kernel$\\rightarrow$Restart) and then **run all cells** (in the menubar, select Cell$\\rightarrow$Run All).\n",
    "\n",
    "Make sure you fill in any place that says `YOUR CODE HERE` or \"YOUR ANSWER HERE\", as well as your name and collaborators below:"
   ]
  },
  {
   "cell_type": "code",
   "execution_count": null,
   "metadata": {},
   "outputs": [],
   "source": []
  },
  {
   "cell_type": "code",
   "execution_count": 1,
   "metadata": {},
   "outputs": [],
   "source": [
    "NAME = \"Luka Parisi - Snr:2066677\"\n",
    "COLLABORATORS = \"Atma Jyoti Mahapatra - Snr:\""
   ]
  },
  {
   "cell_type": "markdown",
   "metadata": {},
   "source": [
    "---"
   ]
  },
  {
   "cell_type": "markdown",
   "metadata": {
    "toc": true
   },
   "source": [
    "<h1>Table of Contents<span class=\"tocSkip\"></span></h1>\n",
    "<div class=\"toc\"><ul class=\"toc-item\"><li><span><a href=\"#Datascience-for-Economics-Final-Assignment\" data-toc-modified-id=\"Datascience-for-Economics-Final-Assignment-1\"><span class=\"toc-item-num\">1&nbsp;&nbsp;</span>Datascience for Economics Final Assignment</a></span></li><li><span><a href=\"#Research-question-(0.5-points)\" data-toc-modified-id=\"Research-question-(0.5-points)-2\"><span class=\"toc-item-num\">2&nbsp;&nbsp;</span>Research question (0.5 points)</a></span></li><li><span><a href=\"#Motivation-(0.5-points)\" data-toc-modified-id=\"Motivation-(0.5-points)-3\"><span class=\"toc-item-num\">3&nbsp;&nbsp;</span>Motivation (0.5 points)</a></span></li><li><span><a href=\"#Method-and-data-(1.0-point)\" data-toc-modified-id=\"Method-and-data-(1.0-point)-4\"><span class=\"toc-item-num\">4&nbsp;&nbsp;</span>Method and data (1.0 point)</a></span></li><li><span><a href=\"#Preview-of-the-answers-(0.5-points)\" data-toc-modified-id=\"Preview-of-the-answers-(0.5-points)-5\"><span class=\"toc-item-num\">5&nbsp;&nbsp;</span>Preview of the answers (0.5 points)</a></span></li><li><span><a href=\"#Main-assumptions-(0.5-points)\" data-toc-modified-id=\"Main-assumptions-(0.5-points)-6\"><span class=\"toc-item-num\">6&nbsp;&nbsp;</span>Main assumptions (0.5 points)</a></span></li><li><span><a href=\"#Python/R-code-(6-points)\" data-toc-modified-id=\"Python/R-code-(6-points)-7\"><span class=\"toc-item-num\">7&nbsp;&nbsp;</span>Python/R code (6 points)</a></span></li><li><span><a href=\"#Robustness-analysis-(0.5-points)\" data-toc-modified-id=\"Robustness-analysis-(0.5-points)-8\"><span class=\"toc-item-num\">8&nbsp;&nbsp;</span>Robustness analysis (0.5 points)</a></span></li><li><span><a href=\"#Discussion-and-conclusion-(0.5-points)\" data-toc-modified-id=\"Discussion-and-conclusion-(0.5-points)-9\"><span class=\"toc-item-num\">9&nbsp;&nbsp;</span>Discussion and conclusion (0.5 points)</a></span></li></ul></div>"
   ]
  },
  {
   "cell_type": "markdown",
   "metadata": {
    "deletable": false,
    "editable": false,
    "nbgrader": {
     "cell_type": "markdown",
     "checksum": "535c21960d4663d5edac398cb445d087",
     "grade": false,
     "grade_id": "jupyter",
     "locked": true,
     "schema_version": 3,
     "solution": false
    }
   },
   "source": [
    "For this problem set, we'll be using the Jupyter notebook:\n",
    "\n",
    "![](jupyter.png)"
   ]
  },
  {
   "cell_type": "markdown",
   "metadata": {},
   "source": [
    "# Datascience for Economics Final Assignment\n",
    "\n",
    "The datascience final assignment you can do either on your own or with one other student (i.e. max group size is 2 students).\n",
    "\n",
    "The first cell of your notebook, should contain a table with the names and SNRs and ANRs of the group members, like so\n",
    "\n",
    "|Name|SNR|ANR|\n",
    "|----|---|----|\n",
    "|j.m. keynes|12345|u6786|\n",
    "|adam smith|56789|u1234|\n",
    "\n",
    "\n",
    "See [the webpage](https://janboone.github.io/msc_datascience/#org6548148) for details of what we expect to see in this assignment.\n",
    "\n",
    "Write readable python/R code and use markdown to explain to us what you are doing in the code and why.\n"
   ]
  },
  {
   "cell_type": "markdown",
   "metadata": {},
   "source": [
    "# Research question (0.5 points)\n",
    "\n",
    "Formulate the research question: what question do you want to answer in this assignment?"
   ]
  },
  {
   "cell_type": "markdown",
   "metadata": {
    "deletable": false,
    "nbgrader": {
     "cell_type": "markdown",
     "checksum": "d9a9d08ea38644e3ac0b85955731a7e3",
     "grade": true,
     "grade_id": "cell-44d71caea99ce92b",
     "locked": false,
     "points": 0.5,
     "schema_version": 3,
     "solution": true,
     "task": false
    }
   },
   "source": [
    "**This study will try to determine the relationship between poverty and crime in counties within the United States of America.**"
   ]
  },
  {
   "cell_type": "markdown",
   "metadata": {
    "tags": []
   },
   "source": [
    "# Motivation (0.5 points)\n",
    "\n"
   ]
  },
  {
   "cell_type": "markdown",
   "metadata": {
    "deletable": false,
    "nbgrader": {
     "cell_type": "markdown",
     "checksum": "a74e1c61d4c263e5dcedc9c4f7565432",
     "grade": true,
     "grade_id": "cell-a00025e68181b6f6",
     "locked": false,
     "points": 0.5,
     "schema_version": 3,
     "solution": true,
     "task": false
    }
   },
   "source": [
    "There have been a multitude of different studies which have tried to disentangle the determinants and casual mechanisms that lead to high crime rates. Yet, the exact mechanism by which crime functions is still quite unknown and is highly effected by the context of the individual setting. Some of the most published research mostly analyzed factors such as poverty, education, family background, race, sex, and other economic and social factors. \n",
    "\n",
    "Since we are both economists that are interested in inequailty, we have choosen to analyze how poverty affects crime rates in the United States by county. We choose the United States since it has historically been a rich country with high levels of inequality and the social and health system have often increased these gaps even further. Furthermore, the United States have repeatedly made worldwide news with instances of unexplanable violence and violent crime.     \n",
    "\n",
    "Our initial idea was to analyze poverty and crime through the lense of each state individually. Instead, we decided it would be smarter to conduct our analysis on the county level, because states themselves can vastly differ by their respective counties."
   ]
  },
  {
   "cell_type": "markdown",
   "metadata": {},
   "source": [
    "# Method and data (1.0 point)\n",
    "\n",
    "Which data do you have to analyze the question and what methods are you using to answer the question?\n",
    "\n",
    "* explain where your data come from (give a link or the code to download the data if you use an API like [wbdata](https://wbdata.readthedocs.io/en/stable/));\n",
    "* explain the data cleaning and data normalization steps that you use;\n",
    "* make sure that the data is in your github repository as well (or explain why this is not possible) so that we can replicate your analysis.\n",
    "* Motivate why you have decided to use these methods (e.g., neural network) over other methods (e.g., Lasso) in this specific context of your study.\n",
    "* How is the data representative to the population of interest?"
   ]
  },
  {
   "cell_type": "markdown",
   "metadata": {
    "deletable": false,
    "nbgrader": {
     "cell_type": "markdown",
     "checksum": "58b91e9ed0432af5f7bd6e33a6a51515",
     "grade": true,
     "grade_id": "cell-a2a13b6c938ec4c8",
     "locked": false,
     "points": 1,
     "schema_version": 3,
     "solution": true,
     "task": false
    }
   },
   "source": [
    "For this analysis we have decided to merge two datasets:\n",
    "- FBI:\n",
    "    - The FBI datasets presented arrest information about each county and we decided to use this variable as a proxy variable for crime. Data was available for most counties in the United States and we will explain the weaknesses of this dataset in further detail below.\n",
    "- County_Complete:\n",
    "    - This was one of a few datasets where a vast amount of information was available for each county in the United States.\n",
    "\n",
    "*Both datasets have been provided in our github repository.*\n",
    "\n",
    "The first challenge, beyond just choosing variables of interest, was to merge the two datasets. Each county in the United States has a unique FIPS code. Unfortunately, the two datasets had different ways of representing this data. As you will see in the code below, we created a new column in the FBI dataset so that the FIPS codes would match between the two datasets.\n",
    "\n",
    "We believe that it would also be usefull to explain in detail all of the variables that will be in our analysis:\n"
   ]
  },
  {
   "cell_type": "markdown",
   "metadata": {},
   "source": [
    "# Preview of the answers (0.5 points)\n",
    "\n",
    "Summarize the results that you find and the answer to your research question."
   ]
  },
  {
   "cell_type": "markdown",
   "metadata": {
    "deletable": false,
    "nbgrader": {
     "cell_type": "markdown",
     "checksum": "a675684538158f19ff2a70fa98e7fff2",
     "grade": true,
     "grade_id": "cell-c2854f0b8b034fae",
     "locked": false,
     "points": 0.5,
     "schema_version": 3,
     "solution": true,
     "task": false
    }
   },
   "source": [
    "YOUR ANSWER HERE"
   ]
  },
  {
   "cell_type": "markdown",
   "metadata": {},
   "source": [
    "# Main assumptions (0.5 points)\n",
    "\n",
    "What are the main assumptions that you need to answer the question with your data? For example, assumptions about missing data, random sampling, stability of the data generating process. If the aim is causal inference, then also make clear your assumptions about the random assignment of treatment (e.g. plot a DAG to illustrate your view on the causal relations between the variables)."
   ]
  },
  {
   "cell_type": "markdown",
   "metadata": {
    "deletable": false,
    "nbgrader": {
     "cell_type": "markdown",
     "checksum": "d43d4f76461858e4d6140ccbf5347ab6",
     "grade": true,
     "grade_id": "cell-03cb6a4826b945c9",
     "locked": false,
     "points": 0.5,
     "schema_version": 3,
     "solution": true,
     "task": false
    }
   },
   "source": [
    "YOUR ANSWER HERE"
   ]
  },
  {
   "cell_type": "markdown",
   "metadata": {},
   "source": [
    "# Python/R code (6 points)\n",
    "\n",
    "Give the python/R code in code cells and use markdown cells to explain why you code things in this way and what the outcomes are of the code cells.\n",
    "\n",
    "Create as many python/R and markdown cells as you need to explain things well.\n",
    "\n",
    "If you program mainly in R, you can also use R-studio if you prefer. On jupyterlab, you can switch to an R kernel and combine python and R code in one notebook.\n"
   ]
  },
  {
   "cell_type": "code",
   "execution_count": 2,
   "metadata": {
    "deletable": false,
    "nbgrader": {
     "cell_type": "code",
     "checksum": "ad0736d3fd2fd323ad705ff2d7f5f0b8",
     "grade": true,
     "grade_id": "cell-c8076f3091bfd885",
     "locked": false,
     "points": 6,
     "schema_version": 3,
     "solution": true,
     "task": false
    }
   },
   "outputs": [
    {
     "name": "stderr",
     "output_type": "stream",
     "text": [
      "/opt/conda/lib/python3.9/site-packages/statsmodels/compat/pandas.py:65: FutureWarning: pandas.Int64Index is deprecated and will be removed from pandas in a future version. Use pandas.Index with the appropriate dtype instead.\n",
      "  from pandas import Int64Index as NumericIndex\n",
      "WARNING (theano.link.c.cmodule): install mkl with `conda install mkl-service`: No module named 'mkl'\n"
     ]
    }
   ],
   "source": [
    "# Importing required modules\n",
    "from __future__ import absolute_import, division, print_function, unicode_literals\n",
    "\n",
    "import numpy as np\n",
    "import pandas as pd\n",
    "import seaborn as sns\n",
    "import statsmodels.formula.api as smf\n",
    "from scipy import optimize\n",
    "import pymc3 as pm\n",
    "import matplotlib.pyplot as plt\n",
    "import tensorflow as tf\n",
    "from tensorflow.keras import datasets, layers, models\n",
    "from tensorflow import keras\n",
    "import numpy as np\n",
    "from sklearn.datasets import make_classification\n",
    "from sklearn.model_selection import train_test_split\n",
    "from sklearn.preprocessing import MinMaxScaler\n",
    "from tensorflow.keras.models import Sequential\n",
    "from tensorflow.keras.layers import Dense,Dropout\n",
    "from tensorflow.keras.callbacks import EarlyStopping\n",
    "from tensorflow.keras.models import load_model\n",
    "from pickle import dump, load\n",
    "from sklearn.metrics import confusion_matrix, classification_report\n",
    "from numpy.random import seed\n",
    "import statsmodels.api as sm\n",
    "from sklearn.linear_model import LogisticRegression\n",
    "# Bayesian\n",
    "import arviz as az\n",
    "import graphviz\n",
    "\n"
   ]
  },
  {
   "cell_type": "code",
   "execution_count": 3,
   "metadata": {},
   "outputs": [
    {
     "data": {
      "text/plain": [
       "Index(['fips', 'state', 'name', 'pop2000', 'pop2010', 'pop2011', 'pop2012',\n",
       "       'pop2013', 'pop2014', 'pop2015',\n",
       "       ...\n",
       "       'poverty_under_18_2019', 'two_plus_races_2019',\n",
       "       'unemployment_rate_2019', 'uninsured_2019',\n",
       "       'uninsured_65_and_older_2019', 'uninsured_under_19_2019',\n",
       "       'uninsured_under_6_2019', 'veterans_2019', 'white_2019',\n",
       "       'white_not_hispanic_2019'],\n",
       "      dtype='object', length=188)"
      ]
     },
     "execution_count": 3,
     "metadata": {},
     "output_type": "execute_result"
    }
   ],
   "source": [
    "#county level data for 2010, subsetting list of variables that can be of use for our analysis\n",
    "county = pd.read_csv('./Data/County_data/county_complete(1).csv')\n",
    "county.columns"
   ]
  },
  {
   "cell_type": "markdown",
   "metadata": {},
   "source": [
    "As noted above, this dataset contains 188 variables, since we are doing an analysis for the year of 2010..."
   ]
  },
  {
   "cell_type": "code",
   "execution_count": 4,
   "metadata": {},
   "outputs": [],
   "source": [
    "county2010 = county.loc[:,['state','name','fips',\n",
    "                           'pop2010','hs_grad_2010','poverty_2010','unemployment_rate_2010','median_household_income_2010','metro_2013']]\n",
    "county2010['year'] = 2010"
   ]
  },
  {
   "cell_type": "code",
   "execution_count": 5,
   "metadata": {},
   "outputs": [],
   "source": [
    "county2016 = county.loc[:,['state','name','fips',\n",
    "                           'pop2016','hs_grad_2016','poverty_2016','unemployment_rate_2016','median_household_income_2016','metro_2013']]\n",
    "county2016['year'] = 2016"
   ]
  },
  {
   "cell_type": "code",
   "execution_count": 6,
   "metadata": {},
   "outputs": [
    {
     "data": {
      "text/plain": [
       "Index(['STUDYNO', 'EDITION', 'PART', 'IDNO', 'FIPS_ST', 'FIPS_CTY', 'CPOPARST',\n",
       "       'AG_ARRST', 'JURFLAG', 'COVIND', 'GRNDTOT', 'P1TOT', 'P1VLNT',\n",
       "       'P1PRPTY', 'MURDER', 'RAPE', 'ROBBERY', 'AGASSLT', 'BURGLRY', 'LARCENY',\n",
       "       'MVTHEFT', 'ARSON', 'OTHASLT', 'FRGYCNT', 'FRAUD', 'EMBEZL', 'STLNPRP',\n",
       "       'VANDLSM', 'WEAPONS', 'COMVICE', 'SEXOFF', 'DRUGTOT', 'DRGSALE',\n",
       "       'COCSALE', 'MJSALE', 'SYNSALE', 'OTHSALE', 'DRGPOSS', 'COCPOSS',\n",
       "       'MJPOSS', 'SYNPOSS', 'OTHPOSS', 'GAMBLE', 'BOOKMKG', 'NUMBERS',\n",
       "       'OTGAMBL', 'OFAGFAM', 'DUI', 'LIQUOR', 'DRUNK', 'DISORDR', 'VAGRANT',\n",
       "       'ALLOTHR', 'SUSPICN', 'CURFEW', 'RUNAWAY'],\n",
       "      dtype='object')"
      ]
     },
     "execution_count": 6,
     "metadata": {},
     "output_type": "execute_result"
    }
   ],
   "source": [
    "crime2010 = pd.read_stata('./Data/FBI_crime_data/ICPSR_33523/DS0001/33523-0001-Data.dta')\n",
    "crime2010.columns"
   ]
  },
  {
   "cell_type": "code",
   "execution_count": 7,
   "metadata": {},
   "outputs": [],
   "source": [
    "crime2010 = crime2010.loc[:,['FIPS_ST','FIPS_CTY','COVIND','GRNDTOT']]\n",
    "#using str.zfill to make FIPS code mergable with county dataset\n",
    "crime2010['FIPS_ST'] = crime2010['FIPS_ST'].astype(str)\n",
    "crime2010['FIPS_ST'] = crime2010['FIPS_ST'].str.zfill(2)\n",
    "crime2010['FIPS_CTY'] = crime2010['FIPS_CTY'].astype(str)\n",
    "crime2010['FIPS_CTY'] = crime2010['FIPS_CTY'].str.zfill(3)\n",
    "crime2010[\"fips\"] = crime2010[\"FIPS_ST\"] + crime2010[\"FIPS_CTY\"]"
   ]
  },
  {
   "cell_type": "code",
   "execution_count": 8,
   "metadata": {},
   "outputs": [],
   "source": [
    "crime2016 = pd.read_stata('./Data/FBI_crime_data/ICPSR_37059/DS0001/37059-0001-Data.dta')"
   ]
  },
  {
   "cell_type": "code",
   "execution_count": 9,
   "metadata": {},
   "outputs": [],
   "source": [
    "crime2016 = crime2016.loc[:,['FIPS_ST','FIPS_CTY','COVIND','GRNDTOT']]\n",
    "crime2016['FIPS_ST'] = crime2016['FIPS_ST'].astype(str)\n",
    "crime2016['FIPS_ST'] = crime2016['FIPS_ST'].str.zfill(2)\n",
    "crime2016['FIPS_CTY'] = crime2016['FIPS_CTY'].astype(str)\n",
    "crime2016['FIPS_CTY'] = crime2016['FIPS_CTY'].str.zfill(3)\n",
    "crime2016[\"fips\"] = crime2016[\"FIPS_ST\"] + crime2016[\"FIPS_CTY\"]"
   ]
  },
  {
   "cell_type": "markdown",
   "metadata": {},
   "source": [
    "As noted above, this dataset contains xxx variables, since we are doing an analysis for the year of 2010..."
   ]
  },
  {
   "cell_type": "code",
   "execution_count": 10,
   "metadata": {},
   "outputs": [],
   "source": [
    "#adding zeros to first 100 counties\n",
    "county2010['fips'] = county2010['fips'].astype(str)\n",
    "county2010['fips'] = county2010['fips'].str.zfill(5)\n",
    "county2016['fips'] = county2016['fips'].astype(str)\n",
    "county2016['fips'] = county2016['fips'].str.zfill(5)"
   ]
  },
  {
   "cell_type": "code",
   "execution_count": 11,
   "metadata": {},
   "outputs": [],
   "source": [
    "county_crime2010 = county2010.merge(crime2010,how='left',left_on=['fips'], right_on=['fips'])\n",
    "county_crime2016 = county2016.merge(crime2016,how='left',left_on=['fips'], right_on=['fips'])"
   ]
  },
  {
   "cell_type": "code",
   "execution_count": 12,
   "metadata": {},
   "outputs": [
    {
     "data": {
      "text/html": [
       "<div>\n",
       "<style scoped>\n",
       "    .dataframe tbody tr th:only-of-type {\n",
       "        vertical-align: middle;\n",
       "    }\n",
       "\n",
       "    .dataframe tbody tr th {\n",
       "        vertical-align: top;\n",
       "    }\n",
       "\n",
       "    .dataframe thead th {\n",
       "        text-align: right;\n",
       "    }\n",
       "</style>\n",
       "<table border=\"1\" class=\"dataframe\">\n",
       "  <thead>\n",
       "    <tr style=\"text-align: right;\">\n",
       "      <th></th>\n",
       "      <th>pop2010</th>\n",
       "      <th>hs_grad_2010</th>\n",
       "      <th>poverty_2010</th>\n",
       "      <th>unemployment_rate_2010</th>\n",
       "      <th>median_household_income_2010</th>\n",
       "      <th>metro_2013</th>\n",
       "      <th>year</th>\n",
       "      <th>COVIND</th>\n",
       "      <th>GRNDTOT</th>\n",
       "    </tr>\n",
       "  </thead>\n",
       "  <tbody>\n",
       "    <tr>\n",
       "      <th>count</th>\n",
       "      <td>3.142000e+03</td>\n",
       "      <td>3142.000000</td>\n",
       "      <td>3142.000000</td>\n",
       "      <td>3139.000000</td>\n",
       "      <td>3142.000000</td>\n",
       "      <td>3139.000000</td>\n",
       "      <td>3142.0</td>\n",
       "      <td>3134.000000</td>\n",
       "      <td>3134.000000</td>\n",
       "    </tr>\n",
       "    <tr>\n",
       "      <th>mean</th>\n",
       "      <td>9.826204e+04</td>\n",
       "      <td>83.106811</td>\n",
       "      <td>15.498759</td>\n",
       "      <td>9.366352</td>\n",
       "      <td>44274.120942</td>\n",
       "      <td>0.371137</td>\n",
       "      <td>2010.0</td>\n",
       "      <td>84.368174</td>\n",
       "      <td>3837.173899</td>\n",
       "    </tr>\n",
       "    <tr>\n",
       "      <th>std</th>\n",
       "      <td>3.129467e+05</td>\n",
       "      <td>7.358070</td>\n",
       "      <td>6.384852</td>\n",
       "      <td>3.156258</td>\n",
       "      <td>11547.485994</td>\n",
       "      <td>0.483186</td>\n",
       "      <td>0.0</td>\n",
       "      <td>31.177111</td>\n",
       "      <td>12758.806220</td>\n",
       "    </tr>\n",
       "    <tr>\n",
       "      <th>min</th>\n",
       "      <td>8.200000e+01</td>\n",
       "      <td>47.900000</td>\n",
       "      <td>0.000000</td>\n",
       "      <td>2.100000</td>\n",
       "      <td>19351.000000</td>\n",
       "      <td>0.000000</td>\n",
       "      <td>2010.0</td>\n",
       "      <td>0.000000</td>\n",
       "      <td>0.000000</td>\n",
       "    </tr>\n",
       "    <tr>\n",
       "      <th>25%</th>\n",
       "      <td>1.111450e+04</td>\n",
       "      <td>78.400000</td>\n",
       "      <td>11.000000</td>\n",
       "      <td>7.230000</td>\n",
       "      <td>36956.250000</td>\n",
       "      <td>0.000000</td>\n",
       "      <td>2010.0</td>\n",
       "      <td>90.671150</td>\n",
       "      <td>237.000000</td>\n",
       "    </tr>\n",
       "    <tr>\n",
       "      <th>50%</th>\n",
       "      <td>2.587200e+04</td>\n",
       "      <td>84.600000</td>\n",
       "      <td>14.700000</td>\n",
       "      <td>9.230000</td>\n",
       "      <td>42450.000000</td>\n",
       "      <td>0.000000</td>\n",
       "      <td>2010.0</td>\n",
       "      <td>100.000000</td>\n",
       "      <td>819.000000</td>\n",
       "    </tr>\n",
       "    <tr>\n",
       "      <th>75%</th>\n",
       "      <td>6.678000e+04</td>\n",
       "      <td>88.600000</td>\n",
       "      <td>19.000000</td>\n",
       "      <td>11.350000</td>\n",
       "      <td>49144.000000</td>\n",
       "      <td>1.000000</td>\n",
       "      <td>2010.0</td>\n",
       "      <td>100.000000</td>\n",
       "      <td>2663.750000</td>\n",
       "    </tr>\n",
       "    <tr>\n",
       "      <th>max</th>\n",
       "      <td>9.818605e+06</td>\n",
       "      <td>99.300000</td>\n",
       "      <td>53.500000</td>\n",
       "      <td>28.840000</td>\n",
       "      <td>115574.000000</td>\n",
       "      <td>1.000000</td>\n",
       "      <td>2010.0</td>\n",
       "      <td>100.000000</td>\n",
       "      <td>363182.000000</td>\n",
       "    </tr>\n",
       "  </tbody>\n",
       "</table>\n",
       "</div>"
      ],
      "text/plain": [
       "            pop2010  hs_grad_2010  poverty_2010  unemployment_rate_2010  \\\n",
       "count  3.142000e+03   3142.000000   3142.000000             3139.000000   \n",
       "mean   9.826204e+04     83.106811     15.498759                9.366352   \n",
       "std    3.129467e+05      7.358070      6.384852                3.156258   \n",
       "min    8.200000e+01     47.900000      0.000000                2.100000   \n",
       "25%    1.111450e+04     78.400000     11.000000                7.230000   \n",
       "50%    2.587200e+04     84.600000     14.700000                9.230000   \n",
       "75%    6.678000e+04     88.600000     19.000000               11.350000   \n",
       "max    9.818605e+06     99.300000     53.500000               28.840000   \n",
       "\n",
       "       median_household_income_2010   metro_2013    year       COVIND  \\\n",
       "count                   3142.000000  3139.000000  3142.0  3134.000000   \n",
       "mean                   44274.120942     0.371137  2010.0    84.368174   \n",
       "std                    11547.485994     0.483186     0.0    31.177111   \n",
       "min                    19351.000000     0.000000  2010.0     0.000000   \n",
       "25%                    36956.250000     0.000000  2010.0    90.671150   \n",
       "50%                    42450.000000     0.000000  2010.0   100.000000   \n",
       "75%                    49144.000000     1.000000  2010.0   100.000000   \n",
       "max                   115574.000000     1.000000  2010.0   100.000000   \n",
       "\n",
       "             GRNDTOT  \n",
       "count    3134.000000  \n",
       "mean     3837.173899  \n",
       "std     12758.806220  \n",
       "min         0.000000  \n",
       "25%       237.000000  \n",
       "50%       819.000000  \n",
       "75%      2663.750000  \n",
       "max    363182.000000  "
      ]
     },
     "execution_count": 12,
     "metadata": {},
     "output_type": "execute_result"
    }
   ],
   "source": [
    "county_crime2010.describe()"
   ]
  },
  {
   "cell_type": "code",
   "execution_count": 13,
   "metadata": {},
   "outputs": [],
   "source": [
    "county_crime2010.rename({'pop2010':'population','hs_grad_2010':'hs_grad','poverty_2010':'poverty', 'unemployment_rate_2010':'unemployment_rate',\n",
    "                          'median_household_income_2010':'median_hh_income', 'metro_2013':'metro'},inplace=True,axis=1)"
   ]
  },
  {
   "cell_type": "code",
   "execution_count": 14,
   "metadata": {},
   "outputs": [],
   "source": [
    "county_crime2016.rename({'pop2016':'population','hs_grad_2016':'hs_grad','poverty_2016':'poverty', 'unemployment_rate_2016':'unemployment_rate',\n",
    "                          'median_household_income_2016':'median_hh_income', 'metro_2013':'metro'},inplace=True,axis=1)"
   ]
  },
  {
   "cell_type": "code",
   "execution_count": 15,
   "metadata": {},
   "outputs": [
    {
     "data": {
      "text/html": [
       "<div>\n",
       "<style scoped>\n",
       "    .dataframe tbody tr th:only-of-type {\n",
       "        vertical-align: middle;\n",
       "    }\n",
       "\n",
       "    .dataframe tbody tr th {\n",
       "        vertical-align: top;\n",
       "    }\n",
       "\n",
       "    .dataframe thead th {\n",
       "        text-align: right;\n",
       "    }\n",
       "</style>\n",
       "<table border=\"1\" class=\"dataframe\">\n",
       "  <thead>\n",
       "    <tr style=\"text-align: right;\">\n",
       "      <th></th>\n",
       "      <th>state</th>\n",
       "      <th>name</th>\n",
       "      <th>fips</th>\n",
       "      <th>population</th>\n",
       "      <th>hs_grad</th>\n",
       "      <th>poverty</th>\n",
       "      <th>unemployment_rate</th>\n",
       "      <th>median_hh_income</th>\n",
       "      <th>metro</th>\n",
       "      <th>year</th>\n",
       "      <th>COVIND</th>\n",
       "      <th>GRNDTOT</th>\n",
       "    </tr>\n",
       "  </thead>\n",
       "  <tbody>\n",
       "    <tr>\n",
       "      <th>0</th>\n",
       "      <td>Alabama</td>\n",
       "      <td>Autauga County</td>\n",
       "      <td>01001</td>\n",
       "      <td>54571.0</td>\n",
       "      <td>85.3</td>\n",
       "      <td>10.6</td>\n",
       "      <td>8.87</td>\n",
       "      <td>53255.0</td>\n",
       "      <td>1.0</td>\n",
       "      <td>2010</td>\n",
       "      <td>98.4525</td>\n",
       "      <td>2710.0</td>\n",
       "    </tr>\n",
       "    <tr>\n",
       "      <th>1</th>\n",
       "      <td>Alabama</td>\n",
       "      <td>Baldwin County</td>\n",
       "      <td>01003</td>\n",
       "      <td>182265.0</td>\n",
       "      <td>87.6</td>\n",
       "      <td>12.2</td>\n",
       "      <td>9.99</td>\n",
       "      <td>50147.0</td>\n",
       "      <td>1.0</td>\n",
       "      <td>2010</td>\n",
       "      <td>100.0000</td>\n",
       "      <td>8503.0</td>\n",
       "    </tr>\n",
       "    <tr>\n",
       "      <th>2</th>\n",
       "      <td>Alabama</td>\n",
       "      <td>Barbour County</td>\n",
       "      <td>01005</td>\n",
       "      <td>27457.0</td>\n",
       "      <td>71.9</td>\n",
       "      <td>25.0</td>\n",
       "      <td>12.35</td>\n",
       "      <td>33219.0</td>\n",
       "      <td>0.0</td>\n",
       "      <td>2010</td>\n",
       "      <td>98.9839</td>\n",
       "      <td>707.0</td>\n",
       "    </tr>\n",
       "    <tr>\n",
       "      <th>3</th>\n",
       "      <td>Alabama</td>\n",
       "      <td>Bibb County</td>\n",
       "      <td>01007</td>\n",
       "      <td>22915.0</td>\n",
       "      <td>74.5</td>\n",
       "      <td>12.6</td>\n",
       "      <td>11.42</td>\n",
       "      <td>41770.0</td>\n",
       "      <td>1.0</td>\n",
       "      <td>2010</td>\n",
       "      <td>100.0000</td>\n",
       "      <td>780.0</td>\n",
       "    </tr>\n",
       "    <tr>\n",
       "      <th>4</th>\n",
       "      <td>Alabama</td>\n",
       "      <td>Blount County</td>\n",
       "      <td>01009</td>\n",
       "      <td>57322.0</td>\n",
       "      <td>74.7</td>\n",
       "      <td>13.4</td>\n",
       "      <td>9.82</td>\n",
       "      <td>45549.0</td>\n",
       "      <td>1.0</td>\n",
       "      <td>2010</td>\n",
       "      <td>99.2813</td>\n",
       "      <td>1979.0</td>\n",
       "    </tr>\n",
       "  </tbody>\n",
       "</table>\n",
       "</div>"
      ],
      "text/plain": [
       "     state            name   fips  population  hs_grad  poverty  \\\n",
       "0  Alabama  Autauga County  01001     54571.0     85.3     10.6   \n",
       "1  Alabama  Baldwin County  01003    182265.0     87.6     12.2   \n",
       "2  Alabama  Barbour County  01005     27457.0     71.9     25.0   \n",
       "3  Alabama     Bibb County  01007     22915.0     74.5     12.6   \n",
       "4  Alabama   Blount County  01009     57322.0     74.7     13.4   \n",
       "\n",
       "   unemployment_rate  median_hh_income  metro  year    COVIND  GRNDTOT  \n",
       "0               8.87           53255.0    1.0  2010   98.4525   2710.0  \n",
       "1               9.99           50147.0    1.0  2010  100.0000   8503.0  \n",
       "2              12.35           33219.0    0.0  2010   98.9839    707.0  \n",
       "3              11.42           41770.0    1.0  2010  100.0000    780.0  \n",
       "4               9.82           45549.0    1.0  2010   99.2813   1979.0  "
      ]
     },
     "execution_count": 15,
     "metadata": {},
     "output_type": "execute_result"
    }
   ],
   "source": [
    "frames = [county_crime2010,county_crime2016]\n",
    "county_crime = pd.concat(frames)\n",
    "county_crime.drop(['FIPS_ST','FIPS_CTY'],inplace = True,axis=1)\n",
    "county_crime.head()"
   ]
  },
  {
   "cell_type": "code",
   "execution_count": 16,
   "metadata": {},
   "outputs": [
    {
     "data": {
      "text/html": [
       "<div>\n",
       "<style scoped>\n",
       "    .dataframe tbody tr th:only-of-type {\n",
       "        vertical-align: middle;\n",
       "    }\n",
       "\n",
       "    .dataframe tbody tr th {\n",
       "        vertical-align: top;\n",
       "    }\n",
       "\n",
       "    .dataframe thead th {\n",
       "        text-align: right;\n",
       "    }\n",
       "</style>\n",
       "<table border=\"1\" class=\"dataframe\">\n",
       "  <thead>\n",
       "    <tr style=\"text-align: right;\">\n",
       "      <th></th>\n",
       "      <th>population</th>\n",
       "      <th>hs_grad</th>\n",
       "      <th>poverty</th>\n",
       "      <th>unemployment_rate</th>\n",
       "      <th>median_hh_income</th>\n",
       "      <th>metro</th>\n",
       "      <th>year</th>\n",
       "      <th>COVIND</th>\n",
       "      <th>GRNDTOT</th>\n",
       "    </tr>\n",
       "  </thead>\n",
       "  <tbody>\n",
       "    <tr>\n",
       "      <th>count</th>\n",
       "      <td>6.281000e+03</td>\n",
       "      <td>6282.000000</td>\n",
       "      <td>6281.000000</td>\n",
       "      <td>6278.000000</td>\n",
       "      <td>6281.000000</td>\n",
       "      <td>6278.000000</td>\n",
       "      <td>6284.000000</td>\n",
       "      <td>6275.000000</td>\n",
       "      <td>6275.000000</td>\n",
       "    </tr>\n",
       "    <tr>\n",
       "      <th>mean</th>\n",
       "      <td>1.006431e+05</td>\n",
       "      <td>84.461923</td>\n",
       "      <td>15.683633</td>\n",
       "      <td>7.298308</td>\n",
       "      <td>46902.375577</td>\n",
       "      <td>0.371137</td>\n",
       "      <td>2013.000000</td>\n",
       "      <td>84.886416</td>\n",
       "      <td>3435.668685</td>\n",
       "    </tr>\n",
       "    <tr>\n",
       "      <th>std</th>\n",
       "      <td>3.222300e+05</td>\n",
       "      <td>7.092274</td>\n",
       "      <td>6.327255</td>\n",
       "      <td>3.319982</td>\n",
       "      <td>12512.127597</td>\n",
       "      <td>0.483148</td>\n",
       "      <td>3.000239</td>\n",
       "      <td>31.089238</td>\n",
       "      <td>11074.156621</td>\n",
       "    </tr>\n",
       "    <tr>\n",
       "      <th>min</th>\n",
       "      <td>8.200000e+01</td>\n",
       "      <td>47.900000</td>\n",
       "      <td>0.000000</td>\n",
       "      <td>1.670000</td>\n",
       "      <td>19351.000000</td>\n",
       "      <td>0.000000</td>\n",
       "      <td>2010.000000</td>\n",
       "      <td>0.000000</td>\n",
       "      <td>0.000000</td>\n",
       "    </tr>\n",
       "    <tr>\n",
       "      <th>25%</th>\n",
       "      <td>1.106400e+04</td>\n",
       "      <td>80.000000</td>\n",
       "      <td>11.200000</td>\n",
       "      <td>4.690000</td>\n",
       "      <td>38646.000000</td>\n",
       "      <td>0.000000</td>\n",
       "      <td>2010.000000</td>\n",
       "      <td>91.947750</td>\n",
       "      <td>221.500000</td>\n",
       "    </tr>\n",
       "    <tr>\n",
       "      <th>50%</th>\n",
       "      <td>2.583300e+04</td>\n",
       "      <td>85.900000</td>\n",
       "      <td>14.800000</td>\n",
       "      <td>6.585000</td>\n",
       "      <td>44785.000000</td>\n",
       "      <td>0.000000</td>\n",
       "      <td>2013.000000</td>\n",
       "      <td>100.000000</td>\n",
       "      <td>779.000000</td>\n",
       "    </tr>\n",
       "    <tr>\n",
       "      <th>75%</th>\n",
       "      <td>6.702300e+04</td>\n",
       "      <td>89.800000</td>\n",
       "      <td>19.000000</td>\n",
       "      <td>9.480000</td>\n",
       "      <td>52520.000000</td>\n",
       "      <td>1.000000</td>\n",
       "      <td>2016.000000</td>\n",
       "      <td>100.000000</td>\n",
       "      <td>2461.500000</td>\n",
       "    </tr>\n",
       "    <tr>\n",
       "      <th>max</th>\n",
       "      <td>1.015056e+07</td>\n",
       "      <td>99.300000</td>\n",
       "      <td>53.500000</td>\n",
       "      <td>28.840000</td>\n",
       "      <td>134609.000000</td>\n",
       "      <td>1.000000</td>\n",
       "      <td>2016.000000</td>\n",
       "      <td>100.000000</td>\n",
       "      <td>363182.000000</td>\n",
       "    </tr>\n",
       "  </tbody>\n",
       "</table>\n",
       "</div>"
      ],
      "text/plain": [
       "         population      hs_grad      poverty  unemployment_rate  \\\n",
       "count  6.281000e+03  6282.000000  6281.000000        6278.000000   \n",
       "mean   1.006431e+05    84.461923    15.683633           7.298308   \n",
       "std    3.222300e+05     7.092274     6.327255           3.319982   \n",
       "min    8.200000e+01    47.900000     0.000000           1.670000   \n",
       "25%    1.106400e+04    80.000000    11.200000           4.690000   \n",
       "50%    2.583300e+04    85.900000    14.800000           6.585000   \n",
       "75%    6.702300e+04    89.800000    19.000000           9.480000   \n",
       "max    1.015056e+07    99.300000    53.500000          28.840000   \n",
       "\n",
       "       median_hh_income        metro         year       COVIND        GRNDTOT  \n",
       "count       6281.000000  6278.000000  6284.000000  6275.000000    6275.000000  \n",
       "mean       46902.375577     0.371137  2013.000000    84.886416    3435.668685  \n",
       "std        12512.127597     0.483148     3.000239    31.089238   11074.156621  \n",
       "min        19351.000000     0.000000  2010.000000     0.000000       0.000000  \n",
       "25%        38646.000000     0.000000  2010.000000    91.947750     221.500000  \n",
       "50%        44785.000000     0.000000  2013.000000   100.000000     779.000000  \n",
       "75%        52520.000000     1.000000  2016.000000   100.000000    2461.500000  \n",
       "max       134609.000000     1.000000  2016.000000   100.000000  363182.000000  "
      ]
     },
     "execution_count": 16,
     "metadata": {},
     "output_type": "execute_result"
    }
   ],
   "source": [
    "county_crime.describe()"
   ]
  },
  {
   "cell_type": "markdown",
   "metadata": {},
   "source": [
    "#### Creating dependent variable of interest:\n",
    "Arrest rate – An arrest rate describes the number of arrests made by law enforcement agencies per \n",
    "100,000 total population. An arrest rate is calculated by dividing the number of reported arrests by the desired population. The result is multiplied by 100,000. We will use this variable as our dependent variable and proxy variable for crime rate."
   ]
  },
  {
   "cell_type": "code",
   "execution_count": 17,
   "metadata": {},
   "outputs": [],
   "source": [
    "county_crime['arrest_rate'] =  (county_crime.GRNDTOT/county_crime.population)*100000"
   ]
  },
  {
   "cell_type": "code",
   "execution_count": 18,
   "metadata": {},
   "outputs": [],
   "source": [
    "county_crime = county_crime.sort_values(['fips','year'])\n",
    "county_crime.set_index(['fips','year'],inplace=True)\n",
    "#df = df.unstack()"
   ]
  },
  {
   "cell_type": "code",
   "execution_count": 19,
   "metadata": {},
   "outputs": [
    {
     "data": {
      "text/html": [
       "<div>\n",
       "<style scoped>\n",
       "    .dataframe tbody tr th:only-of-type {\n",
       "        vertical-align: middle;\n",
       "    }\n",
       "\n",
       "    .dataframe tbody tr th {\n",
       "        vertical-align: top;\n",
       "    }\n",
       "\n",
       "    .dataframe thead th {\n",
       "        text-align: right;\n",
       "    }\n",
       "</style>\n",
       "<table border=\"1\" class=\"dataframe\">\n",
       "  <thead>\n",
       "    <tr style=\"text-align: right;\">\n",
       "      <th></th>\n",
       "      <th></th>\n",
       "      <th>state</th>\n",
       "      <th>name</th>\n",
       "      <th>population</th>\n",
       "      <th>hs_grad</th>\n",
       "      <th>poverty</th>\n",
       "      <th>unemployment_rate</th>\n",
       "      <th>median_hh_income</th>\n",
       "      <th>metro</th>\n",
       "      <th>COVIND</th>\n",
       "      <th>GRNDTOT</th>\n",
       "      <th>arrest_rate</th>\n",
       "    </tr>\n",
       "    <tr>\n",
       "      <th>fips</th>\n",
       "      <th>year</th>\n",
       "      <th></th>\n",
       "      <th></th>\n",
       "      <th></th>\n",
       "      <th></th>\n",
       "      <th></th>\n",
       "      <th></th>\n",
       "      <th></th>\n",
       "      <th></th>\n",
       "      <th></th>\n",
       "      <th></th>\n",
       "      <th></th>\n",
       "    </tr>\n",
       "  </thead>\n",
       "  <tbody>\n",
       "    <tr>\n",
       "      <th rowspan=\"2\" valign=\"top\">01001</th>\n",
       "      <th>2010</th>\n",
       "      <td>Alabama</td>\n",
       "      <td>Autauga County</td>\n",
       "      <td>54571.0</td>\n",
       "      <td>85.3</td>\n",
       "      <td>10.6</td>\n",
       "      <td>8.87</td>\n",
       "      <td>53255.0</td>\n",
       "      <td>1.0</td>\n",
       "      <td>98.4525</td>\n",
       "      <td>2710.0</td>\n",
       "      <td>4966.007586</td>\n",
       "    </tr>\n",
       "    <tr>\n",
       "      <th>2016</th>\n",
       "      <td>Alabama</td>\n",
       "      <td>Autauga County</td>\n",
       "      <td>55278.0</td>\n",
       "      <td>87.6</td>\n",
       "      <td>13.5</td>\n",
       "      <td>5.11</td>\n",
       "      <td>54487.0</td>\n",
       "      <td>1.0</td>\n",
       "      <td>98.5035</td>\n",
       "      <td>2796.0</td>\n",
       "      <td>5058.070118</td>\n",
       "    </tr>\n",
       "    <tr>\n",
       "      <th rowspan=\"2\" valign=\"top\">01003</th>\n",
       "      <th>2010</th>\n",
       "      <td>Alabama</td>\n",
       "      <td>Baldwin County</td>\n",
       "      <td>182265.0</td>\n",
       "      <td>87.6</td>\n",
       "      <td>12.2</td>\n",
       "      <td>9.99</td>\n",
       "      <td>50147.0</td>\n",
       "      <td>1.0</td>\n",
       "      <td>100.0000</td>\n",
       "      <td>8503.0</td>\n",
       "      <td>4665.185307</td>\n",
       "    </tr>\n",
       "    <tr>\n",
       "      <th>2016</th>\n",
       "      <td>Alabama</td>\n",
       "      <td>Baldwin County</td>\n",
       "      <td>207509.0</td>\n",
       "      <td>90.0</td>\n",
       "      <td>11.7</td>\n",
       "      <td>5.35</td>\n",
       "      <td>56460.0</td>\n",
       "      <td>1.0</td>\n",
       "      <td>96.2812</td>\n",
       "      <td>14765.0</td>\n",
       "      <td>7115.354033</td>\n",
       "    </tr>\n",
       "    <tr>\n",
       "      <th>01005</th>\n",
       "      <th>2010</th>\n",
       "      <td>Alabama</td>\n",
       "      <td>Barbour County</td>\n",
       "      <td>27457.0</td>\n",
       "      <td>71.9</td>\n",
       "      <td>25.0</td>\n",
       "      <td>12.35</td>\n",
       "      <td>33219.0</td>\n",
       "      <td>0.0</td>\n",
       "      <td>98.9839</td>\n",
       "      <td>707.0</td>\n",
       "      <td>2574.935353</td>\n",
       "    </tr>\n",
       "  </tbody>\n",
       "</table>\n",
       "</div>"
      ],
      "text/plain": [
       "              state            name  population  hs_grad  poverty  \\\n",
       "fips  year                                                          \n",
       "01001 2010  Alabama  Autauga County     54571.0     85.3     10.6   \n",
       "      2016  Alabama  Autauga County     55278.0     87.6     13.5   \n",
       "01003 2010  Alabama  Baldwin County    182265.0     87.6     12.2   \n",
       "      2016  Alabama  Baldwin County    207509.0     90.0     11.7   \n",
       "01005 2010  Alabama  Barbour County     27457.0     71.9     25.0   \n",
       "\n",
       "            unemployment_rate  median_hh_income  metro    COVIND  GRNDTOT  \\\n",
       "fips  year                                                                  \n",
       "01001 2010               8.87           53255.0    1.0   98.4525   2710.0   \n",
       "      2016               5.11           54487.0    1.0   98.5035   2796.0   \n",
       "01003 2010               9.99           50147.0    1.0  100.0000   8503.0   \n",
       "      2016               5.35           56460.0    1.0   96.2812  14765.0   \n",
       "01005 2010              12.35           33219.0    0.0   98.9839    707.0   \n",
       "\n",
       "            arrest_rate  \n",
       "fips  year               \n",
       "01001 2010  4966.007586  \n",
       "      2016  5058.070118  \n",
       "01003 2010  4665.185307  \n",
       "      2016  7115.354033  \n",
       "01005 2010  2574.935353  "
      ]
     },
     "execution_count": 19,
     "metadata": {},
     "output_type": "execute_result"
    }
   ],
   "source": [
    "county_crime.head()"
   ]
  },
  {
   "cell_type": "code",
   "execution_count": 20,
   "metadata": {},
   "outputs": [
    {
     "name": "stdout",
     "output_type": "stream",
     "text": [
      "Analysing\n",
      "<class 'pandas.core.frame.DataFrame'>\n",
      "MultiIndex: 6284 entries, ('01001', 2010) to ('56045', 2016)\n",
      "Data columns (total 11 columns):\n",
      " #   Column             Non-Null Count  Dtype  \n",
      "---  ------             --------------  -----  \n",
      " 0   state              6284 non-null   object \n",
      " 1   name               6284 non-null   object \n",
      " 2   population         6281 non-null   float64\n",
      " 3   hs_grad            6282 non-null   float64\n",
      " 4   poverty            6281 non-null   float64\n",
      " 5   unemployment_rate  6278 non-null   float64\n",
      " 6   median_hh_income   6281 non-null   float64\n",
      " 7   metro              6278 non-null   float64\n",
      " 8   COVIND             6275 non-null   float64\n",
      " 9   GRNDTOT            6275 non-null   float64\n",
      " 10  arrest_rate        6272 non-null   float64\n",
      "dtypes: float64(9), object(2)\n",
      "memory usage: 647.8+ KB\n",
      "None\n",
      "                   Count         %\n",
      "arrest_rate           12  0.190961\n",
      "COVIND                 9  0.143221\n",
      "GRNDTOT                9  0.143221\n",
      "unemployment_rate      6  0.095481\n",
      "metro                  6  0.095481\n",
      "population             3  0.047740\n",
      "poverty                3  0.047740\n",
      "median_hh_income       3  0.047740\n",
      "hs_grad                2  0.031827\n",
      "state                  0  0.000000\n",
      "name                   0  0.000000\n"
     ]
    }
   ],
   "source": [
    "#defining a function analysing the dataset in terms of missing values and type of columns\n",
    "def Analysis(data):\n",
    "    print(\"Analysing\")\n",
    "    print(data.info())\n",
    "    #calculating the share of missing values\n",
    "    missing = pd.concat([data.isnull().sum(), 100 * data.isnull().mean()], axis=1)\n",
    "    missing.columns=['Count', '%']\n",
    "    missing = missing.sort_values(by='Count', ascending=False)\n",
    "    print(missing)\n",
    "    df=missing.iloc[0:5,0]\n",
    "\n",
    "#analysing the dataset\n",
    "Analysis(county_crime)"
   ]
  },
  {
   "cell_type": "code",
   "execution_count": 21,
   "metadata": {},
   "outputs": [],
   "source": [
    "#drop small number of missing values\n",
    "county_crime = county_crime.dropna()"
   ]
  },
  {
   "attachments": {
    "4d0423e5-90de-4fda-a9e0-c13e95df1c97.png": {
     "image/png": "[encoded data removed]"
    }
   },
   "cell_type": "markdown",
   "metadata": {},
   "source": [
    "#### Dealing with missing values\n",
    "The Coverage Indicator\n",
    "variable represents the proportion of county data that is reported\n",
    "for a given year. The indicator ranges from 0 to 100. A value of 0\n",
    "indicates that no data for the county were reported and all data\n",
    "have been imputed. A value of 100 indicates that all ORIs in the\n",
    "county reported for all 12 months in the year. \n",
    "\n",
    "In this data collection, zeroes may represent both true zeroes\n",
    "or missing data, and it is possible to distinguish between the two.\n",
    "In the arrest files (Parts 1-3 and 5-7), the coverage indictor alone\n",
    "does not indicate whether or not zeroes are true or missing values. A\n",
    "county can have a coverage indicator of zero, but still contain\n",
    "arrest data. ICPSR can estimate arrest data for a county that did\n",
    "not report any arrests based on data for other counties of comparable\n",
    "population size in the same state that did report 12 months of data. \n",
    "\n",
    "Besides missing values, the official FBI documentation also noted that:No arrest data were provided for Florida. Limited arrest data were available for Illinois. Limited crimes reported data were available for Alaska, Kentucky, Mississippi, Montana, and South Dakota. Because of this we will drop these States from the analysis.\n",
    "\n",
    "![image.png](attachment:4d0423e5-90de-4fda-a9e0-c13e95df1c97.png)"
   ]
  },
  {
   "cell_type": "code",
   "execution_count": 22,
   "metadata": {},
   "outputs": [],
   "source": [
    "county_crime = county_crime.loc[(county_crime['COVIND'] != 0) & (county_crime['GRNDTOT'] != 0)]"
   ]
  },
  {
   "cell_type": "code",
   "execution_count": 23,
   "metadata": {},
   "outputs": [
    {
     "data": {
      "text/html": [
       "<div>\n",
       "<style scoped>\n",
       "    .dataframe tbody tr th:only-of-type {\n",
       "        vertical-align: middle;\n",
       "    }\n",
       "\n",
       "    .dataframe tbody tr th {\n",
       "        vertical-align: top;\n",
       "    }\n",
       "\n",
       "    .dataframe thead th {\n",
       "        text-align: right;\n",
       "    }\n",
       "</style>\n",
       "<table border=\"1\" class=\"dataframe\">\n",
       "  <thead>\n",
       "    <tr style=\"text-align: right;\">\n",
       "      <th></th>\n",
       "      <th>population</th>\n",
       "      <th>hs_grad</th>\n",
       "      <th>poverty</th>\n",
       "      <th>unemployment_rate</th>\n",
       "      <th>median_hh_income</th>\n",
       "      <th>metro</th>\n",
       "      <th>COVIND</th>\n",
       "      <th>GRNDTOT</th>\n",
       "      <th>arrest_rate</th>\n",
       "    </tr>\n",
       "  </thead>\n",
       "  <tbody>\n",
       "    <tr>\n",
       "      <th>count</th>\n",
       "      <td>5.677000e+03</td>\n",
       "      <td>5677.000000</td>\n",
       "      <td>5677.000000</td>\n",
       "      <td>5677.000000</td>\n",
       "      <td>5677.000000</td>\n",
       "      <td>5677.000000</td>\n",
       "      <td>5677.000000</td>\n",
       "      <td>5677.000000</td>\n",
       "      <td>5677.000000</td>\n",
       "    </tr>\n",
       "    <tr>\n",
       "      <th>mean</th>\n",
       "      <td>1.000435e+05</td>\n",
       "      <td>84.410534</td>\n",
       "      <td>15.623604</td>\n",
       "      <td>7.264136</td>\n",
       "      <td>47069.865774</td>\n",
       "      <td>0.374494</td>\n",
       "      <td>93.374274</td>\n",
       "      <td>3764.673771</td>\n",
       "      <td>3596.022767</td>\n",
       "    </tr>\n",
       "    <tr>\n",
       "      <th>std</th>\n",
       "      <td>3.208540e+05</td>\n",
       "      <td>7.071781</td>\n",
       "      <td>6.219363</td>\n",
       "      <td>3.334042</td>\n",
       "      <td>12662.622885</td>\n",
       "      <td>0.484035</td>\n",
       "      <td>16.433913</td>\n",
       "      <td>11581.196732</td>\n",
       "      <td>2180.687811</td>\n",
       "    </tr>\n",
       "    <tr>\n",
       "      <th>min</th>\n",
       "      <td>8.200000e+01</td>\n",
       "      <td>47.900000</td>\n",
       "      <td>0.000000</td>\n",
       "      <td>1.670000</td>\n",
       "      <td>19906.000000</td>\n",
       "      <td>0.000000</td>\n",
       "      <td>1.897600</td>\n",
       "      <td>1.000000</td>\n",
       "      <td>19.703139</td>\n",
       "    </tr>\n",
       "    <tr>\n",
       "      <th>25%</th>\n",
       "      <td>1.160200e+04</td>\n",
       "      <td>80.000000</td>\n",
       "      <td>11.100000</td>\n",
       "      <td>4.650000</td>\n",
       "      <td>38702.000000</td>\n",
       "      <td>0.000000</td>\n",
       "      <td>96.324000</td>\n",
       "      <td>314.000000</td>\n",
       "      <td>2191.351986</td>\n",
       "    </tr>\n",
       "    <tr>\n",
       "      <th>50%</th>\n",
       "      <td>2.683500e+04</td>\n",
       "      <td>85.800000</td>\n",
       "      <td>14.800000</td>\n",
       "      <td>6.550000</td>\n",
       "      <td>44785.000000</td>\n",
       "      <td>0.000000</td>\n",
       "      <td>100.000000</td>\n",
       "      <td>931.000000</td>\n",
       "      <td>3266.639445</td>\n",
       "    </tr>\n",
       "    <tr>\n",
       "      <th>75%</th>\n",
       "      <td>6.875600e+04</td>\n",
       "      <td>89.800000</td>\n",
       "      <td>19.000000</td>\n",
       "      <td>9.380000</td>\n",
       "      <td>52763.000000</td>\n",
       "      <td>1.000000</td>\n",
       "      <td>100.000000</td>\n",
       "      <td>2786.000000</td>\n",
       "      <td>4621.619987</td>\n",
       "    </tr>\n",
       "    <tr>\n",
       "      <th>max</th>\n",
       "      <td>1.015056e+07</td>\n",
       "      <td>99.300000</td>\n",
       "      <td>48.000000</td>\n",
       "      <td>28.840000</td>\n",
       "      <td>134609.000000</td>\n",
       "      <td>1.000000</td>\n",
       "      <td>100.000000</td>\n",
       "      <td>363182.000000</td>\n",
       "      <td>63221.153846</td>\n",
       "    </tr>\n",
       "  </tbody>\n",
       "</table>\n",
       "</div>"
      ],
      "text/plain": [
       "         population      hs_grad      poverty  unemployment_rate  \\\n",
       "count  5.677000e+03  5677.000000  5677.000000        5677.000000   \n",
       "mean   1.000435e+05    84.410534    15.623604           7.264136   \n",
       "std    3.208540e+05     7.071781     6.219363           3.334042   \n",
       "min    8.200000e+01    47.900000     0.000000           1.670000   \n",
       "25%    1.160200e+04    80.000000    11.100000           4.650000   \n",
       "50%    2.683500e+04    85.800000    14.800000           6.550000   \n",
       "75%    6.875600e+04    89.800000    19.000000           9.380000   \n",
       "max    1.015056e+07    99.300000    48.000000          28.840000   \n",
       "\n",
       "       median_hh_income        metro       COVIND        GRNDTOT   arrest_rate  \n",
       "count       5677.000000  5677.000000  5677.000000    5677.000000   5677.000000  \n",
       "mean       47069.865774     0.374494    93.374274    3764.673771   3596.022767  \n",
       "std        12662.622885     0.484035    16.433913   11581.196732   2180.687811  \n",
       "min        19906.000000     0.000000     1.897600       1.000000     19.703139  \n",
       "25%        38702.000000     0.000000    96.324000     314.000000   2191.351986  \n",
       "50%        44785.000000     0.000000   100.000000     931.000000   3266.639445  \n",
       "75%        52763.000000     1.000000   100.000000    2786.000000   4621.619987  \n",
       "max       134609.000000     1.000000   100.000000  363182.000000  63221.153846  "
      ]
     },
     "execution_count": 23,
     "metadata": {},
     "output_type": "execute_result"
    }
   ],
   "source": [
    "county_crime.describe()"
   ]
  },
  {
   "cell_type": "code",
   "execution_count": 24,
   "metadata": {},
   "outputs": [
    {
     "name": "stdout",
     "output_type": "stream",
     "text": [
      "Outliers from IQR method:  [8278.185537239802, 8294.046193182301, 8294.793376100253, 8304.7467092142, 8315.764816116187, 8347.654012393898, 8350.550964187329, 8366.709211742442, 8368.376120633238, 8376.237623762378, 8380.81603435934, 8387.143582674309, 8395.242451967064, 8417.263571246773, 8447.73648394414, 8453.38821556521, 8472.10541070928, 8476.947656006278, 8489.139693356048, 8493.68147593677, 8498.375130296155, 8500.718689637279, 8532.6884877796, 8533.572655511165, 8547.436539424521, 8551.894309361025, 8553.785015779016, 8566.764094056929, 8568.69667549279, 8586.89815643458, 8605.472197705209, 8605.961282392707, 8615.171697950003, 8634.208324294172, 8647.84035570612, 8660.015721694355, 8660.536779324057, 8700.227531285553, 8718.10495848884, 8748.547824964502, 8759.013665473249, 8766.071231114105, 8781.39534883721, 8786.819770344484, 8802.103168265745, 8811.789750493066, 8832.807570977919, 8837.537484565179, 8837.811589511168, 8860.71629668811, 8869.839048285514, 8885.29886914378, 8892.568524535533, 8898.678414096916, 8957.973517559009, 8969.771745835904, 8993.095865016096, 8995.908089392507, 9027.408784980518, 9068.424735971497, 9071.29234953994, 9087.110343482742, 9089.422251298198, 9130.150425114454, 9132.91416873812, 9173.476686970282, 9175.611747472565, 9187.410434690304, 9236.624256903162, 9263.30543760564, 9280.543736530915, 9303.981871155715, 9318.976825535638, 9420.8084824387, 9466.329808801971, 9472.290696612801, 9475.155008296219, 9479.491282742358, 9512.817397643057, 9539.639870018898, 9542.240881494547, 9567.38768718802, 9652.410817136273, 9665.89809665898, 9709.27043335162, 9718.443400115426, 9755.751207043453, 9792.452830188678, 9827.900532341575, 9886.731391585761, 9917.775266219425, 9949.24245315422, 9955.864264524998, 9963.09963099631, 10006.448839208942, 10227.847659589315, 10290.064312901955, 10294.97708467903, 10323.407229102768, 10369.65249896165, 10401.171071372051, 10546.497978348767, 10580.155527644905, 10653.339834227207, 10691.131979097088, 10855.59265442404, 11083.249749247743, 11149.739465056937, 11188.634508493024, 11211.332112644755, 11261.449663306705, 11369.215662206947, 11491.181186531267, 11518.175338560228, 11549.864119245656, 11855.146124523506, 11891.196471236904, 11954.512156835386, 11982.377506845543, 12081.271877505524, 12167.754597039122, 12304.243415170018, 12329.43469785575, 12333.707260950947, 12367.975858442687, 12495.076801890507, 12607.674236491779, 12794.581555019486, 12999.65160840785, 13238.326179700975, 13412.362404741745, 14018.691588785046, 14036.10949330227, 14104.114981649682, 14305.091717512023, 14446.873414470676, 14459.254260165344, 14470.65592635213, 14855.829502716255, 16102.97400140303, 16813.175358743614, 16925.518648679288, 16965.14733274984, 17837.291561394642, 17931.192924013554, 21209.700375563574, 23820.904553017695, 63221.153846153844]\n"
     ]
    }
   ],
   "source": [
    "outliers = []\n",
    "def detect_outliers_iqr(data):\n",
    "    data = sorted(data)\n",
    "    q1 = np.percentile(data, 25)\n",
    "    q3 = np.percentile(data, 75)\n",
    "    # print(q1, q3)\n",
    "    IQR = q3-q1\n",
    "    lwr_bound = q1-(1.5*IQR)\n",
    "    upr_bound = q3+(1.5*IQR)\n",
    "    # print(lwr_bound, upr_bound)\n",
    "    for i in data: \n",
    "        if (i<lwr_bound or i>upr_bound):\n",
    "            outliers.append(i)\n",
    "    return outliers# Driver code\n",
    "sample_outliers = detect_outliers_iqr(county_crime['arrest_rate'])\n",
    "print(\"Outliers from IQR method: \", sample_outliers)"
   ]
  },
  {
   "cell_type": "code",
   "execution_count": 25,
   "metadata": {},
   "outputs": [],
   "source": [
    "#drop outliers, we are using min(sample_outliers) because we only have outliers on the right of our distribution\n",
    "county_crime = county_crime.loc[(county_crime['arrest_rate'] > 100) & (county_crime['arrest_rate'] < min(sample_outliers))]"
   ]
  },
  {
   "cell_type": "code",
   "execution_count": 26,
   "metadata": {},
   "outputs": [],
   "source": [
    "#county_crime.drop(['COVIND','Total_arrests'],axis=1,inplace=True)"
   ]
  },
  {
   "cell_type": "code",
   "execution_count": 27,
   "metadata": {},
   "outputs": [
    {
     "name": "stdout",
     "output_type": "stream",
     "text": [
      "<class 'pandas.core.frame.DataFrame'>\n",
      "MultiIndex: 5523 entries, ('01001', 2010) to ('56045', 2016)\n",
      "Data columns (total 11 columns):\n",
      " #   Column             Non-Null Count  Dtype  \n",
      "---  ------             --------------  -----  \n",
      " 0   state              5523 non-null   object \n",
      " 1   name               5523 non-null   object \n",
      " 2   population         5523 non-null   float64\n",
      " 3   hs_grad            5523 non-null   float64\n",
      " 4   poverty            5523 non-null   float64\n",
      " 5   unemployment_rate  5523 non-null   float64\n",
      " 6   median_hh_income   5523 non-null   float64\n",
      " 7   metro              5523 non-null   float64\n",
      " 8   COVIND             5523 non-null   float64\n",
      " 9   GRNDTOT            5523 non-null   float64\n",
      " 10  arrest_rate        5523 non-null   float64\n",
      "dtypes: float64(9), object(2)\n",
      "memory usage: 580.1+ KB\n"
     ]
    }
   ],
   "source": [
    "county_crime.info()"
   ]
  },
  {
   "cell_type": "code",
   "execution_count": 28,
   "metadata": {},
   "outputs": [
    {
     "data": {
      "text/plain": [
       "<AxesSubplot:xlabel='poverty', ylabel='arrest_rate'>"
      ]
     },
     "execution_count": 28,
     "metadata": {},
     "output_type": "execute_result"
    },
    {
     "data": {
      "image/png": "[encoded data removed]",
      "text/plain": [
       "<Figure size 432x288 with 1 Axes>"
      ]
     },
     "metadata": {
      "needs_background": "light"
     },
     "output_type": "display_data"
    }
   ],
   "source": [
    "sns.regplot(x=county_crime['poverty'], y=county_crime['arrest_rate'])"
   ]
  },
  {
   "cell_type": "code",
   "execution_count": 29,
   "metadata": {},
   "outputs": [
    {
     "data": {
      "image/png": "[encoded data removed]",
      "text/plain": [
       "<Figure size 432x288 with 2 Axes>"
      ]
     },
     "metadata": {
      "needs_background": "light"
     },
     "output_type": "display_data"
    }
   ],
   "source": [
    "import seaborn as sn\n",
    "corrMatrix = county_crime.corr()\n",
    "sn.heatmap(corrMatrix)\n",
    "plt.show()"
   ]
  },
  {
   "cell_type": "code",
   "execution_count": 30,
   "metadata": {},
   "outputs": [
    {
     "data": {
      "text/html": [
       "<table class=\"simpletable\">\n",
       "<caption>OLS Regression Results</caption>\n",
       "<tr>\n",
       "  <th>Dep. Variable:</th>            <td>y</td>        <th>  R-squared:         </th> <td>   0.035</td> \n",
       "</tr>\n",
       "<tr>\n",
       "  <th>Model:</th>                   <td>OLS</td>       <th>  Adj. R-squared:    </th> <td>   0.035</td> \n",
       "</tr>\n",
       "<tr>\n",
       "  <th>Method:</th>             <td>Least Squares</td>  <th>  F-statistic:       </th> <td>   202.7</td> \n",
       "</tr>\n",
       "<tr>\n",
       "  <th>Date:</th>             <td>Fri, 05 Aug 2022</td> <th>  Prob (F-statistic):</th> <td>3.42e-45</td> \n",
       "</tr>\n",
       "<tr>\n",
       "  <th>Time:</th>                 <td>13:48:47</td>     <th>  Log-Likelihood:    </th> <td> -48716.</td> \n",
       "</tr>\n",
       "<tr>\n",
       "  <th>No. Observations:</th>      <td>  5523</td>      <th>  AIC:               </th> <td>9.744e+04</td>\n",
       "</tr>\n",
       "<tr>\n",
       "  <th>Df Residuals:</th>          <td>  5521</td>      <th>  BIC:               </th> <td>9.745e+04</td>\n",
       "</tr>\n",
       "<tr>\n",
       "  <th>Df Model:</th>              <td>     1</td>      <th>                     </th>     <td> </td>    \n",
       "</tr>\n",
       "<tr>\n",
       "  <th>Covariance Type:</th>      <td>nonrobust</td>    <th>                     </th>     <td> </td>    \n",
       "</tr>\n",
       "</table>\n",
       "<table class=\"simpletable\">\n",
       "<tr>\n",
       "      <td></td>         <th>coef</th>     <th>std err</th>      <th>t</th>      <th>P>|t|</th>  <th>[0.025</th>    <th>0.975]</th>  \n",
       "</tr>\n",
       "<tr>\n",
       "  <th>Intercept</th> <td> 2617.4309</td> <td>   59.756</td> <td>   43.802</td> <td> 0.000</td> <td> 2500.285</td> <td> 2734.577</td>\n",
       "</tr>\n",
       "<tr>\n",
       "  <th>x</th>         <td>   50.8324</td> <td>    3.571</td> <td>   14.236</td> <td> 0.000</td> <td>   43.833</td> <td>   57.832</td>\n",
       "</tr>\n",
       "</table>\n",
       "<table class=\"simpletable\">\n",
       "<tr>\n",
       "  <th>Omnibus:</th>       <td>158.050</td> <th>  Durbin-Watson:     </th> <td>   1.280</td>\n",
       "</tr>\n",
       "<tr>\n",
       "  <th>Prob(Omnibus):</th> <td> 0.000</td>  <th>  Jarque-Bera (JB):  </th> <td> 168.079</td>\n",
       "</tr>\n",
       "<tr>\n",
       "  <th>Skew:</th>          <td> 0.416</td>  <th>  Prob(JB):          </th> <td>3.18e-37</td>\n",
       "</tr>\n",
       "<tr>\n",
       "  <th>Kurtosis:</th>      <td> 2.806</td>  <th>  Cond. No.          </th> <td>    45.5</td>\n",
       "</tr>\n",
       "</table><br/><br/>Notes:<br/>[1] Standard Errors assume that the covariance matrix of the errors is correctly specified."
      ],
      "text/plain": [
       "<class 'statsmodels.iolib.summary.Summary'>\n",
       "\"\"\"\n",
       "                            OLS Regression Results                            \n",
       "==============================================================================\n",
       "Dep. Variable:                      y   R-squared:                       0.035\n",
       "Model:                            OLS   Adj. R-squared:                  0.035\n",
       "Method:                 Least Squares   F-statistic:                     202.7\n",
       "Date:                Fri, 05 Aug 2022   Prob (F-statistic):           3.42e-45\n",
       "Time:                        13:48:47   Log-Likelihood:                -48716.\n",
       "No. Observations:                5523   AIC:                         9.744e+04\n",
       "Df Residuals:                    5521   BIC:                         9.745e+04\n",
       "Df Model:                           1                                         \n",
       "Covariance Type:            nonrobust                                         \n",
       "==============================================================================\n",
       "                 coef    std err          t      P>|t|      [0.025      0.975]\n",
       "------------------------------------------------------------------------------\n",
       "Intercept   2617.4309     59.756     43.802      0.000    2500.285    2734.577\n",
       "x             50.8324      3.571     14.236      0.000      43.833      57.832\n",
       "==============================================================================\n",
       "Omnibus:                      158.050   Durbin-Watson:                   1.280\n",
       "Prob(Omnibus):                  0.000   Jarque-Bera (JB):              168.079\n",
       "Skew:                           0.416   Prob(JB):                     3.18e-37\n",
       "Kurtosis:                       2.806   Cond. No.                         45.5\n",
       "==============================================================================\n",
       "\n",
       "Notes:\n",
       "[1] Standard Errors assume that the covariance matrix of the errors is correctly specified.\n",
       "\"\"\""
      ]
     },
     "execution_count": 30,
     "metadata": {},
     "output_type": "execute_result"
    }
   ],
   "source": [
    "y = county_crime.arrest_rate\n",
    "x = county_crime.poverty\n",
    "results_fork_incorrect = smf.ols('y ~ x', data=county_crime).fit()\n",
    "results_fork_incorrect.summary()"
   ]
  },
  {
   "cell_type": "code",
   "execution_count": 31,
   "metadata": {},
   "outputs": [],
   "source": [
    "def standardize(x):\n",
    "    return (x-x.mean())/x.std()\n",
    "arrest_rate = standardize(county_crime['arrest_rate'])\n",
    "poverty = standardize(county_crime['poverty'])\n",
    "metro = standardize(county_crime['metro'])\n",
    "#lpopulation = standardize(county_crime['l_population'])\n",
    "#population = standardize(county_crime['population'])\n",
    "#total_arrests = standardize(county_crime['Total_arrests'])"
   ]
  },
  {
   "cell_type": "code",
   "execution_count": null,
   "metadata": {},
   "outputs": [
    {
     "name": "stderr",
     "output_type": "stream",
     "text": [
      "/tmp/ipykernel_15148/599387018.py:14: FutureWarning: In v4.0, pm.sample will return an `arviz.InferenceData` object instead of a `MultiTrace` by default. You can pass return_inferencedata=True or return_inferencedata=False to be safe and silence this warning.\n",
      "  trace_normal = pm.sample(1500, tune=750)\n",
      "Auto-assigning NUTS sampler...\n",
      "Initializing NUTS using jitter+adapt_diag...\n",
      "Multiprocess sampling (4 chains in 4 jobs)\n",
      "NUTS: [σ, b_poverty, constant]\n"
     ]
    },
    {
     "data": {
      "text/html": [
       "\n",
       "    <div>\n",
       "        <style>\n",
       "            /* Turns off some styling */\n",
       "            progress {\n",
       "                /* gets rid of default border in Firefox and Opera. */\n",
       "                border: none;\n",
       "                /* Needs to be in here for Safari polyfill so background images work as expected. */\n",
       "                background-size: auto;\n",
       "            }\n",
       "            .progress-bar-interrupted, .progress-bar-interrupted::-webkit-progress-bar {\n",
       "                background: #F44336;\n",
       "            }\n",
       "        </style>\n",
       "      <progress value='9000' class='' max='9000' style='width:300px; height:20px; vertical-align: middle;'></progress>\n",
       "      100.00% [9000/9000 01:35<00:00 Sampling 4 chains, 0 divergences]\n",
       "    </div>\n",
       "    "
      ],
      "text/plain": [
       "<IPython.core.display.HTML object>"
      ]
     },
     "metadata": {},
     "output_type": "display_data"
    },
    {
     "name": "stderr",
     "output_type": "stream",
     "text": [
      "Sampling 4 chains for 750 tune and 1_500 draw iterations (3_000 + 6_000 draws total) took 96 seconds.\n",
      "/tmp/tmp5aaxqzrj/source.c:1:10: fatal error: cblas.h: No such file or directory\n",
      "    1 | #include <cblas.h>\n",
      "      |          ^~~~~~~~~\n",
      "compilation terminated.\n"
     ]
    }
   ],
   "source": [
    "with pm.Model() as normal:\n",
    "    constant = pm.Normal('constant', mu = 0.0, sd = 1.0)\n",
    "    σ_prior = 0.1\n",
    "    b_poverty = pm.Normal('b_poverty', mu = 0, sd = σ_prior)\n",
    "    #b_lpopulation = pm.Normal('b_lpopulation', mu = 0, sd = σ_prior)\n",
    "    #b_over_65 = pm.Normal('b_over_65', mu = 0, sd = σ_prior)\n",
    "    #b_black = pm.normal(b_black, mu = 0, sd = σ_prior)\n",
    "    #b_population = pm.Normal('b_population', mu = 0, sd = σ_prior)\n",
    "    \n",
    "    μ = constant + b_poverty\n",
    "    σ = pm.HalfNormal('σ', 1)\n",
    "\n",
    "    arrest_rate = pm.Normal('arrest_rate', μ, σ, observed=arrest_rate)\n",
    "    trace_normal = pm.sample(1500, tune=750)"
   ]
  },
  {
   "cell_type": "code",
   "execution_count": null,
   "metadata": {},
   "outputs": [],
   "source": [
    "with normal:\n",
    "    ppc_normal = pm.sample_posterior_predictive(trace_normal, var_names = ['arrest_rate'])"
   ]
  },
  {
   "cell_type": "code",
   "execution_count": null,
   "metadata": {},
   "outputs": [],
   "source": [
    "data_posterior_normal = az.from_pymc3(trace_normal, posterior_predictive = ppc_normal)"
   ]
  },
  {
   "cell_type": "code",
   "execution_count": null,
   "metadata": {},
   "outputs": [],
   "source": [
    "variables_arrest = ['b_poverty']\n",
    "az.summary(data_posterior_normal.posterior,variables_arrest)"
   ]
  },
  {
   "cell_type": "code",
   "execution_count": null,
   "metadata": {},
   "outputs": [],
   "source": [
    "with normal:\n",
    "    pm.plot_trace(trace_normal)"
   ]
  },
  {
   "cell_type": "markdown",
   "metadata": {},
   "source": [
    "# Robustness analysis (0.5 points)\n",
    "\n",
    "How robust are your results? Think of things like:\n",
    "\n",
    "* outliers in the data\n",
    "* different specification of regression, neural network etc.\n",
    "* split of data in train, validation and test data."
   ]
  },
  {
   "cell_type": "code",
   "execution_count": null,
   "metadata": {
    "deletable": false,
    "nbgrader": {
     "cell_type": "code",
     "checksum": "2c76eccb6035c07aa27eec1492ed7ed3",
     "grade": true,
     "grade_id": "cell-365f4bd48b20ea77",
     "locked": false,
     "points": 0.5,
     "schema_version": 3,
     "solution": true,
     "task": false
    }
   },
   "outputs": [],
   "source": [
    "# YOUR CODE HERE\n",
    "raise NotImplementedError()"
   ]
  },
  {
   "cell_type": "markdown",
   "metadata": {},
   "source": [
    "# Discussion and conclusion (0.5 points)\n",
    "\n",
    "What did you find in the analysis above; what is the answer to the question you started out with.\n",
    "\n",
    "What are weaknesses of your approach that can be improved upon in future research (e.g. in your thesis).\n",
    "\n"
   ]
  },
  {
   "cell_type": "markdown",
   "metadata": {
    "deletable": false,
    "nbgrader": {
     "cell_type": "markdown",
     "checksum": "7e908b508af5c2244449588615f83a4d",
     "grade": true,
     "grade_id": "cell-f8f3ab0fc4655b00",
     "locked": false,
     "points": 0.5,
     "schema_version": 3,
     "solution": true,
     "task": false
    }
   },
   "source": [
    "YOUR ANSWER HERE"
   ]
  }
 ],
 "metadata": {
  "kernelspec": {
   "display_name": "Python 3 (ipykernel)",
   "language": "python",
   "name": "python3"
  },
  "language_info": {
   "codemirror_mode": {
    "name": "ipython",
    "version": 3
   },
   "file_extension": ".py",
   "mimetype": "text/x-python",
   "name": "python",
   "nbconvert_exporter": "python",
   "pygments_lexer": "ipython3",
   "version": "3.9.7"
  },
  "toc": {
   "base_numbering": 1,
   "nav_menu": {},
   "number_sections": true,
   "sideBar": true,
   "skip_h1_title": false,
   "title_cell": "Table of Contents",
   "title_sidebar": "Contents",
   "toc_cell": true,
   "toc_position": {},
   "toc_section_display": true,
   "toc_window_display": true
  }
 },
 "nbformat": 4,
 "nbformat_minor": 4
}
